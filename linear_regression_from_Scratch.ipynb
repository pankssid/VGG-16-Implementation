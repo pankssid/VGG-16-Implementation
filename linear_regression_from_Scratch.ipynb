{
 "cells": [
  {
   "cell_type": "code",
   "execution_count": 70,
   "metadata": {},
   "outputs": [],
   "source": [
    "import numpy as np\n",
    "import matplotlib.pyplot as plt\n",
    "from sklearn.datasets import make_regression"
   ]
  },
  {
   "cell_type": "code",
   "execution_count": 71,
   "metadata": {},
   "outputs": [
    {
     "name": "stdout",
     "output_type": "stream",
     "text": [
      "(500, 1) (500,)\n"
     ]
    }
   ],
   "source": [
    "x,y = make_regression(n_samples=500,n_features=1, bias=4.2,noise=5.1)\n",
    "print (x.shape,y.shape)"
   ]
  },
  {
   "cell_type": "code",
   "execution_count": 72,
   "metadata": {},
   "outputs": [
    {
     "name": "stdout",
     "output_type": "stream",
     "text": [
      "400\n",
      "(400, 1)\n",
      "(100, 1)\n",
      "(400,)\n",
      "(100,)\n"
     ]
    }
   ],
   "source": [
    "split=int(0.8*x.shape[0])\n",
    "print(split)\n",
    "\n",
    "x_train=x[:split]\n",
    "x_test=x[split:]\n",
    "\n",
    "y_train=y[:split]\n",
    "y_test=y[split:]\n",
    "\n",
    "print(x_train.shape)\n",
    "print(x_test.shape)\n",
    "\n",
    "print(y_train.shape)\n",
    "print(y_test.shape)\n"
   ]
  },
  {
   "cell_type": "code",
   "execution_count": 73,
   "metadata": {},
   "outputs": [],
   "source": [
    "def hypothesis(x,w):\n",
    "    x0=1\n",
    "    return w[0]*x0+ x*w[1]\n",
    "\n",
    "\n",
    "def get_error(x,w,y_true):\n",
    "    err=0.0\n",
    "    m=x.shape[0]\n",
    "    \n",
    "    for ix in range(m):\n",
    "        err += (y_true[ix] - hypothesis(x[ix],w))**2    #MSE error\n",
    "        \n",
    "    err=err/2*m\n",
    "    return err\n",
    "        "
   ]
  },
  {
   "cell_type": "code",
   "execution_count": 74,
   "metadata": {},
   "outputs": [],
   "source": [
    "def get_grad(x,w,y_true):\n",
    "    grad_0=0.0\n",
    "    grad_1=0.0\n",
    "    \n",
    "    \n",
    "    m=x.shape[0]\n",
    "    \n",
    "    for ix in range(m):\n",
    "        grad_0+=(y_true[ix] - hypothesis(x[ix],w))*(-1)\n",
    "        grad_1+=(y_true[ix] - hypothesis(x[ix],w))*(-1*x[ix])\n",
    "        \n",
    "    grad_0= grad_0/m\n",
    "    grad_1= grad_1/m\n",
    "    \n",
    "    \n",
    "    \n",
    "    return [grad_0,grad_1]        "
   ]
  },
  {
   "cell_type": "code",
   "execution_count": 75,
   "metadata": {},
   "outputs": [],
   "source": [
    "def gradient_descent(x,w,y_true,learning_rate=0.1):\n",
    "    \n",
    "    error= get_error(x,w,y_true)\n",
    "    \n",
    "        \n",
    "    [grad_0,grad_1]= get_grad(x,w,y_true)\n",
    "    w[0] = w[0]-learning_rate*grad_0\n",
    "    w[1] = w[1]-learning_rate*grad_1\n",
    "    \n",
    "    \n",
    "    return error,w"
   ]
  },
  {
   "cell_type": "code",
   "execution_count": 76,
   "metadata": {},
   "outputs": [],
   "source": [
    "w=np.array([0.1,0.1])\n",
    "loss=[]\n"
   ]
  },
  {
   "cell_type": "code",
   "execution_count": 77,
   "metadata": {
    "scrolled": true
   },
   "outputs": [
    {
     "name": "stdout",
     "output_type": "stream",
     "text": [
      "[ 4.03089334 53.32396686]\n"
     ]
    }
   ],
   "source": [
    "for ix in range(400):\n",
    "    er,w= gradient_descent(x_train,w,y_train,learning_rate=0.01)\n",
    "    loss.append(er)\n",
    "    \n",
    "print(w)    "
   ]
  },
  {
   "cell_type": "code",
   "execution_count": 78,
   "metadata": {},
   "outputs": [
    {
     "name": "stdout",
     "output_type": "stream",
     "text": [
      "[2125290.69581013]\n"
     ]
    },
    {
     "data": {
      "image/png": "[encoded data removed]",
      "text/plain": [
       "<matplotlib.figure.Figure at 0x1a96c2cdc50>"
      ]
     },
     "metadata": {},
     "output_type": "display_data"
    }
   ],
   "source": [
    "plt.plot(loss)\n",
    "plt.show\n",
    "\n",
    "\n",
    "print(loss[-1])"
   ]
  },
  {
   "cell_type": "code",
   "execution_count": null,
   "metadata": {},
   "outputs": [],
   "source": []
  }
 ],
 "metadata": {
  "kernelspec": {
   "display_name": "Python 3",
   "language": "python",
   "name": "python3"
  },
  "language_info": {
   "codemirror_mode": {
    "name": "ipython",
    "version": 3
   },
   "file_extension": ".py",
   "mimetype": "text/x-python",
   "name": "python",
   "nbconvert_exporter": "python",
   "pygments_lexer": "ipython3",
   "version": "3.6.4"
  }
 },
 "nbformat": 4,
 "nbformat_minor": 2
}
